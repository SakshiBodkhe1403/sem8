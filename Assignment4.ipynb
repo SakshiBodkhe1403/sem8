{
 "cells": [
  {
   "cell_type": "code",
   "execution_count": 70,
   "id": "8fc288ed",
   "metadata": {},
   "outputs": [],
   "source": [
    "import pandas as pd\n",
    "import matplotlib.pyplot as plt\n",
    "import numpy as np"
   ]
  },
  {
   "cell_type": "markdown",
   "id": "7a8b11c3",
   "metadata": {},
   "source": [
    "### Loading the dataset"
   ]
  },
  {
   "cell_type": "code",
   "execution_count": 71,
   "id": "23a46ab1",
   "metadata": {},
   "outputs": [
    {
     "name": "stdout",
     "output_type": "stream",
     "text": [
      "<class 'pandas.core.frame.DataFrame'>\n",
      "RangeIndex: 1258 entries, 0 to 1257\n",
      "Data columns (total 6 columns):\n",
      " #   Column  Non-Null Count  Dtype  \n",
      "---  ------  --------------  -----  \n",
      " 0   Date    1258 non-null   object \n",
      " 1   Open    1258 non-null   float64\n",
      " 2   High    1258 non-null   float64\n",
      " 3   Low     1258 non-null   float64\n",
      " 4   Close   1258 non-null   object \n",
      " 5   Volume  1258 non-null   object \n",
      "dtypes: float64(3), object(3)\n",
      "memory usage: 59.1+ KB\n"
     ]
    }
   ],
   "source": [
    "train_df = pd.read_csv('Google_Stock_Price_Train.csv')\n",
    "train_df.info()"
   ]
  },
  {
   "cell_type": "code",
   "execution_count": 72,
   "id": "352c10f3-0411-4857-b7f9-7f2eca10f473",
   "metadata": {},
   "outputs": [
    {
     "data": {
      "text/html": [
       "<div>\n",
       "<style scoped>\n",
       "    .dataframe tbody tr th:only-of-type {\n",
       "        vertical-align: middle;\n",
       "    }\n",
       "\n",
       "    .dataframe tbody tr th {\n",
       "        vertical-align: top;\n",
       "    }\n",
       "\n",
       "    .dataframe thead th {\n",
       "        text-align: right;\n",
       "    }\n",
       "</style>\n",
       "<table border=\"1\" class=\"dataframe\">\n",
       "  <thead>\n",
       "    <tr style=\"text-align: right;\">\n",
       "      <th></th>\n",
       "      <th>Date</th>\n",
       "      <th>Open</th>\n",
       "      <th>High</th>\n",
       "      <th>Low</th>\n",
       "      <th>Close</th>\n",
       "      <th>Volume</th>\n",
       "    </tr>\n",
       "  </thead>\n",
       "  <tbody>\n",
       "    <tr>\n",
       "      <th>0</th>\n",
       "      <td>1/3/2012</td>\n",
       "      <td>325.25</td>\n",
       "      <td>332.83</td>\n",
       "      <td>324.97</td>\n",
       "      <td>663.59</td>\n",
       "      <td>7,380,500</td>\n",
       "    </tr>\n",
       "    <tr>\n",
       "      <th>1</th>\n",
       "      <td>1/4/2012</td>\n",
       "      <td>331.27</td>\n",
       "      <td>333.87</td>\n",
       "      <td>329.08</td>\n",
       "      <td>666.45</td>\n",
       "      <td>5,749,400</td>\n",
       "    </tr>\n",
       "    <tr>\n",
       "      <th>2</th>\n",
       "      <td>1/5/2012</td>\n",
       "      <td>329.83</td>\n",
       "      <td>330.75</td>\n",
       "      <td>326.89</td>\n",
       "      <td>657.21</td>\n",
       "      <td>6,590,300</td>\n",
       "    </tr>\n",
       "    <tr>\n",
       "      <th>3</th>\n",
       "      <td>1/6/2012</td>\n",
       "      <td>328.34</td>\n",
       "      <td>328.77</td>\n",
       "      <td>323.68</td>\n",
       "      <td>648.24</td>\n",
       "      <td>5,405,900</td>\n",
       "    </tr>\n",
       "    <tr>\n",
       "      <th>4</th>\n",
       "      <td>1/9/2012</td>\n",
       "      <td>322.04</td>\n",
       "      <td>322.29</td>\n",
       "      <td>309.46</td>\n",
       "      <td>620.76</td>\n",
       "      <td>11,688,800</td>\n",
       "    </tr>\n",
       "  </tbody>\n",
       "</table>\n",
       "</div>"
      ],
      "text/plain": [
       "       Date    Open    High     Low   Close      Volume\n",
       "0  1/3/2012  325.25  332.83  324.97  663.59   7,380,500\n",
       "1  1/4/2012  331.27  333.87  329.08  666.45   5,749,400\n",
       "2  1/5/2012  329.83  330.75  326.89  657.21   6,590,300\n",
       "3  1/6/2012  328.34  328.77  323.68  648.24   5,405,900\n",
       "4  1/9/2012  322.04  322.29  309.46  620.76  11,688,800"
      ]
     },
     "execution_count": 72,
     "metadata": {},
     "output_type": "execute_result"
    }
   ],
   "source": [
    "train_df.head()"
   ]
  },
  {
   "cell_type": "code",
   "execution_count": 73,
   "id": "25f5fba2",
   "metadata": {},
   "outputs": [
    {
     "name": "stdout",
     "output_type": "stream",
     "text": [
      "<class 'pandas.core.frame.DataFrame'>\n",
      "RangeIndex: 20 entries, 0 to 19\n",
      "Data columns (total 6 columns):\n",
      " #   Column  Non-Null Count  Dtype  \n",
      "---  ------  --------------  -----  \n",
      " 0   Date    20 non-null     object \n",
      " 1   Open    20 non-null     float64\n",
      " 2   High    20 non-null     float64\n",
      " 3   Low     20 non-null     float64\n",
      " 4   Close   20 non-null     float64\n",
      " 5   Volume  20 non-null     object \n",
      "dtypes: float64(4), object(2)\n",
      "memory usage: 1.1+ KB\n"
     ]
    }
   ],
   "source": [
    "test_df = pd.read_csv('Google_Stock_Price_Test.csv')\n",
    "test_df.info()"
   ]
  },
  {
   "cell_type": "markdown",
   "id": "0099e4a3",
   "metadata": {},
   "source": [
    "#### Choosing column 'open' for predicition"
   ]
  },
  {
   "cell_type": "code",
   "execution_count": 74,
   "id": "919e13c0",
   "metadata": {},
   "outputs": [
    {
     "data": {
      "text/plain": [
       "(1258, 1)"
      ]
     },
     "execution_count": 74,
     "metadata": {},
     "output_type": "execute_result"
    }
   ],
   "source": [
    "train = train_df.loc[:,[\"Open\"]].values\n",
    "train.shape"
   ]
  },
  {
   "cell_type": "markdown",
   "id": "3f92995d",
   "metadata": {},
   "source": [
    "### Feature Scaling"
   ]
  },
  {
   "cell_type": "code",
   "execution_count": 75,
   "id": "aa770ef9",
   "metadata": {},
   "outputs": [],
   "source": [
    "from sklearn.preprocessing import MinMaxScaler\n",
    "scaler = MinMaxScaler()"
   ]
  },
  {
   "cell_type": "code",
   "execution_count": 76,
   "id": "9e86778f",
   "metadata": {},
   "outputs": [],
   "source": [
    "train_scaled = scaler.fit_transform(train)"
   ]
  },
  {
   "cell_type": "code",
   "execution_count": 77,
   "id": "815c90eb",
   "metadata": {},
   "outputs": [
    {
     "data": {
      "image/png": "[encoded data removed]",
      "text/plain": [
       "<Figure size 640x480 with 1 Axes>"
      ]
     },
     "metadata": {},
     "output_type": "display_data"
    }
   ],
   "source": [
    "plt.plot(train_scaled)\n",
    "plt.ylabel(\"Standardized Values\")\n",
    "plt.xlabel(\"Time->\")\n",
    "plt.show()"
   ]
  },
  {
   "cell_type": "markdown",
   "id": "afd48559",
   "metadata": {},
   "source": [
    "### Create data structure to train model  \n",
    "Taking reference of past 60 days to predict future stock price  \n",
    "x_train will have data of 60 days prior to current date and y_train will have price on current date"
   ]
  },
  {
   "cell_type": "code",
   "execution_count": 78,
   "id": "c2e7aaea",
   "metadata": {},
   "outputs": [],
   "source": [
    "x_train = []\n",
    "y_train = []\n",
    "time = 60\n",
    "for i in range(60,train_scaled.shape[0]):\n",
    "    x_train.append(train_scaled[i-60:i,0])\n",
    "    y_train.append(train_scaled[i,0])\n",
    "x_train = np.array(x_train)\n",
    "y_train = np.array(y_train)"
   ]
  },
  {
   "cell_type": "code",
   "execution_count": 79,
   "id": "d3d50977",
   "metadata": {},
   "outputs": [
    {
     "data": {
      "text/plain": [
       "((1198, 60), (1198,))"
      ]
     },
     "execution_count": 79,
     "metadata": {},
     "output_type": "execute_result"
    }
   ],
   "source": [
    "x_train.shape,y_train.shape"
   ]
  },
  {
   "cell_type": "code",
   "execution_count": 80,
   "id": "49806d76",
   "metadata": {},
   "outputs": [
    {
     "data": {
      "text/plain": [
       "(1198, 60, 1)"
      ]
     },
     "execution_count": 80,
     "metadata": {},
     "output_type": "execute_result"
    }
   ],
   "source": [
    "x_train = np.reshape(x_train,newshape=(x_train.shape[0],x_train.shape[1],1))\n",
    "x_train.shape"
   ]
  },
  {
   "cell_type": "markdown",
   "id": "2db3dac7",
   "metadata": {},
   "source": [
    "### Build model"
   ]
  },
  {
   "cell_type": "code",
   "execution_count": 81,
   "id": "302ed403",
   "metadata": {},
   "outputs": [],
   "source": [
    "from keras.models import Sequential\n",
    "from keras.layers import Dense, SimpleRNN,Dropout"
   ]
  },
  {
   "cell_type": "code",
   "execution_count": 82,
   "id": "860d847d",
   "metadata": {},
   "outputs": [
    {
     "name": "stdout",
     "output_type": "stream",
     "text": [
      "Model: \"sequential_3\"\n",
      "_________________________________________________________________\n",
      " Layer (type)                Output Shape              Param #   \n",
      "=================================================================\n",
      " simple_rnn_12 (SimpleRNN)   (None, 60, 50)            2600      \n",
      "                                                                 \n",
      " dropout_12 (Dropout)        (None, 60, 50)            0         \n",
      "                                                                 \n",
      " simple_rnn_13 (SimpleRNN)   (None, 60, 50)            5050      \n",
      "                                                                 \n",
      " dropout_13 (Dropout)        (None, 60, 50)            0         \n",
      "                                                                 \n",
      " simple_rnn_14 (SimpleRNN)   (None, 60, 50)            5050      \n",
      "                                                                 \n",
      " dropout_14 (Dropout)        (None, 60, 50)            0         \n",
      "                                                                 \n",
      " simple_rnn_15 (SimpleRNN)   (None, 50)                5050      \n",
      "                                                                 \n",
      " dropout_15 (Dropout)        (None, 50)                0         \n",
      "                                                                 \n",
      " dense_3 (Dense)             (None, 1)                 51        \n",
      "                                                                 \n",
      "=================================================================\n",
      "Total params: 17801 (69.54 KB)\n",
      "Trainable params: 17801 (69.54 KB)\n",
      "Non-trainable params: 0 (0.00 Byte)\n",
      "_________________________________________________________________\n"
     ]
    }
   ],
   "source": [
    "model = Sequential()\n",
    "\n",
    "model.add(SimpleRNN(units=50,activation = \"tanh\", return_sequences = True, input_shape = (x_train.shape[1], 1)))\n",
    "model.add(Dropout(0.2))\n",
    "\n",
    "model.add(SimpleRNN(units=50,activation = \"tanh\", return_sequences = True))\n",
    "model.add(Dropout(0.2))\n",
    "\n",
    "model.add(SimpleRNN(units=50,activation = \"tanh\", return_sequences = True))\n",
    "model.add(Dropout(0.2))\n",
    "\n",
    "model.add(SimpleRNN(units=50))\n",
    "model.add(Dropout(0.2))\n",
    "\n",
    "model.add(Dense(units=1))\n",
    "\n",
    "model.compile(optimizer='adam',loss='mse')\n",
    "model.summary()"
   ]
  },
  {
   "cell_type": "code",
   "execution_count": 83,
   "id": "d807b7de",
   "metadata": {},
   "outputs": [
    {
     "name": "stdout",
     "output_type": "stream",
     "text": [
      "Epoch 1/100\n",
      "38/38 [==============================] - 12s 121ms/step - loss: 0.4791 - val_loss: 0.0749\n",
      "Epoch 2/100\n",
      "38/38 [==============================] - 4s 94ms/step - loss: 0.2978 - val_loss: 8.4890e-04\n",
      "Epoch 3/100\n",
      "38/38 [==============================] - 4s 96ms/step - loss: 0.2434 - val_loss: 0.0096\n",
      "Epoch 4/100\n",
      "38/38 [==============================] - 4s 95ms/step - loss: 0.1738 - val_loss: 0.0429\n",
      "Epoch 5/100\n",
      "38/38 [==============================] - 3s 88ms/step - loss: 0.1329 - val_loss: 6.6088e-04\n",
      "Epoch 6/100\n",
      "38/38 [==============================] - 4s 114ms/step - loss: 0.1080 - val_loss: 0.0111\n",
      "Epoch 7/100\n",
      "38/38 [==============================] - 4s 98ms/step - loss: 0.0877 - val_loss: 0.0020\n",
      "Epoch 8/100\n",
      "38/38 [==============================] - 4s 99ms/step - loss: 0.0696 - val_loss: 0.0055\n",
      "Epoch 9/100\n",
      "38/38 [==============================] - 4s 98ms/step - loss: 0.0583 - val_loss: 0.0184\n",
      "Epoch 10/100\n",
      "38/38 [==============================] - 3s 91ms/step - loss: 0.0482 - val_loss: 0.0061\n",
      "Epoch 11/100\n",
      "38/38 [==============================] - 4s 92ms/step - loss: 0.0447 - val_loss: 0.0057\n",
      "Epoch 12/100\n",
      "38/38 [==============================] - 3s 91ms/step - loss: 0.0385 - val_loss: 0.0174\n",
      "Epoch 13/100\n",
      "38/38 [==============================] - 3s 91ms/step - loss: 0.0352 - val_loss: 0.0093\n",
      "Epoch 14/100\n",
      "38/38 [==============================] - 3s 91ms/step - loss: 0.0291 - val_loss: 0.0097\n",
      "Epoch 15/100\n",
      "38/38 [==============================] - 4s 99ms/step - loss: 0.0260 - val_loss: 0.0054\n",
      "Epoch 16/100\n",
      "38/38 [==============================] - 4s 93ms/step - loss: 0.0211 - val_loss: 0.0075\n",
      "Epoch 17/100\n",
      "38/38 [==============================] - 4s 108ms/step - loss: 0.0220 - val_loss: 0.0027\n",
      "Epoch 18/100\n",
      "38/38 [==============================] - 4s 97ms/step - loss: 0.0195 - val_loss: 0.0049\n",
      "Epoch 19/100\n",
      "38/38 [==============================] - 5s 118ms/step - loss: 0.0175 - val_loss: 0.0017\n",
      "Epoch 20/100\n",
      "38/38 [==============================] - 3s 92ms/step - loss: 0.0154 - val_loss: 0.0050\n",
      "Epoch 21/100\n",
      "38/38 [==============================] - 3s 92ms/step - loss: 0.0150 - val_loss: 6.5589e-04\n",
      "Epoch 22/100\n",
      "38/38 [==============================] - 4s 112ms/step - loss: 0.0161 - val_loss: 5.8494e-04\n",
      "Epoch 23/100\n",
      "38/38 [==============================] - 4s 101ms/step - loss: 0.0132 - val_loss: 0.0032\n",
      "Epoch 24/100\n",
      "38/38 [==============================] - 4s 97ms/step - loss: 0.0108 - val_loss: 0.0011\n",
      "Epoch 25/100\n",
      "38/38 [==============================] - 4s 99ms/step - loss: 0.0111 - val_loss: 7.2247e-04\n",
      "Epoch 26/100\n",
      "38/38 [==============================] - 4s 96ms/step - loss: 0.0091 - val_loss: 6.2926e-04\n",
      "Epoch 27/100\n",
      "38/38 [==============================] - 4s 94ms/step - loss: 0.0094 - val_loss: 0.0031\n",
      "Epoch 28/100\n",
      "38/38 [==============================] - 3s 90ms/step - loss: 0.0087 - val_loss: 5.6592e-04\n",
      "Epoch 29/100\n",
      "38/38 [==============================] - 4s 95ms/step - loss: 0.0087 - val_loss: 5.5091e-04\n",
      "Epoch 30/100\n",
      "38/38 [==============================] - 4s 94ms/step - loss: 0.0071 - val_loss: 0.0021\n",
      "Epoch 31/100\n",
      "38/38 [==============================] - 4s 110ms/step - loss: 0.0078 - val_loss: 5.7634e-04\n",
      "Epoch 32/100\n",
      "38/38 [==============================] - 4s 103ms/step - loss: 0.0064 - val_loss: 8.2131e-04\n",
      "Epoch 33/100\n",
      "38/38 [==============================] - 4s 101ms/step - loss: 0.0065 - val_loss: 5.0335e-04\n",
      "Epoch 34/100\n",
      "38/38 [==============================] - 3s 89ms/step - loss: 0.0064 - val_loss: 0.0012\n",
      "Epoch 35/100\n",
      "38/38 [==============================] - 3s 90ms/step - loss: 0.0066 - val_loss: 0.0019\n",
      "Epoch 36/100\n",
      "38/38 [==============================] - 3s 88ms/step - loss: 0.0058 - val_loss: 0.0015\n",
      "Epoch 37/100\n",
      "38/38 [==============================] - 4s 99ms/step - loss: 0.0063 - val_loss: 9.2237e-04\n",
      "Epoch 38/100\n",
      "38/38 [==============================] - 4s 96ms/step - loss: 0.0052 - val_loss: 0.0015\n",
      "Epoch 39/100\n",
      "38/38 [==============================] - 3s 86ms/step - loss: 0.0049 - val_loss: 5.7199e-04\n",
      "Epoch 40/100\n",
      "38/38 [==============================] - 4s 96ms/step - loss: 0.0052 - val_loss: 6.1227e-04\n",
      "Epoch 41/100\n",
      "38/38 [==============================] - 4s 93ms/step - loss: 0.0051 - val_loss: 9.8805e-04\n",
      "Epoch 42/100\n",
      "38/38 [==============================] - 4s 95ms/step - loss: 0.0052 - val_loss: 0.0036\n",
      "Epoch 43/100\n",
      "38/38 [==============================] - 4s 93ms/step - loss: 0.0045 - val_loss: 0.0011\n",
      "Epoch 44/100\n",
      "38/38 [==============================] - 4s 102ms/step - loss: 0.0041 - val_loss: 7.9638e-04\n",
      "Epoch 45/100\n",
      "38/38 [==============================] - 2s 40ms/step - loss: 0.0046 - val_loss: 6.9562e-04\n",
      "Epoch 46/100\n",
      "38/38 [==============================] - 2s 42ms/step - loss: 0.0040 - val_loss: 0.0011\n",
      "Epoch 47/100\n",
      "38/38 [==============================] - 2s 54ms/step - loss: 0.0044 - val_loss: 0.0023\n",
      "Epoch 48/100\n",
      "38/38 [==============================] - 2s 46ms/step - loss: 0.0041 - val_loss: 7.8592e-04\n",
      "Epoch 49/100\n",
      "38/38 [==============================] - 2s 57ms/step - loss: 0.0038 - val_loss: 5.3762e-04\n",
      "Epoch 50/100\n",
      "38/38 [==============================] - 2s 52ms/step - loss: 0.0038 - val_loss: 0.0017\n",
      "Epoch 51/100\n",
      "38/38 [==============================] - 2s 42ms/step - loss: 0.0044 - val_loss: 5.7221e-04\n",
      "Epoch 52/100\n",
      "38/38 [==============================] - 2s 43ms/step - loss: 0.0038 - val_loss: 9.9807e-04\n",
      "Epoch 53/100\n",
      "38/38 [==============================] - 2s 43ms/step - loss: 0.0034 - val_loss: 4.8876e-04\n",
      "Epoch 54/100\n",
      "38/38 [==============================] - 2s 42ms/step - loss: 0.0036 - val_loss: 0.0012\n",
      "Epoch 55/100\n",
      "38/38 [==============================] - 2s 41ms/step - loss: 0.0034 - val_loss: 5.5089e-04\n",
      "Epoch 56/100\n",
      "38/38 [==============================] - 2s 45ms/step - loss: 0.0034 - val_loss: 0.0030\n",
      "Epoch 57/100\n",
      "38/38 [==============================] - 2s 49ms/step - loss: 0.0032 - val_loss: 5.5462e-04\n",
      "Epoch 58/100\n",
      "38/38 [==============================] - 2s 50ms/step - loss: 0.0032 - val_loss: 4.7947e-04\n",
      "Epoch 59/100\n",
      "38/38 [==============================] - 2s 52ms/step - loss: 0.0034 - val_loss: 0.0017\n",
      "Epoch 60/100\n",
      "38/38 [==============================] - 3s 66ms/step - loss: 0.0030 - val_loss: 5.2072e-04\n",
      "Epoch 61/100\n",
      "38/38 [==============================] - 2s 47ms/step - loss: 0.0028 - val_loss: 6.2466e-04\n",
      "Epoch 62/100\n",
      "38/38 [==============================] - 2s 40ms/step - loss: 0.0029 - val_loss: 6.0704e-04\n",
      "Epoch 63/100\n",
      "38/38 [==============================] - 2s 61ms/step - loss: 0.0027 - val_loss: 9.6249e-04\n",
      "Epoch 64/100\n",
      "38/38 [==============================] - 2s 47ms/step - loss: 0.0029 - val_loss: 0.0027\n",
      "Epoch 65/100\n",
      "38/38 [==============================] - 2s 66ms/step - loss: 0.0028 - val_loss: 0.0015\n",
      "Epoch 66/100\n",
      "38/38 [==============================] - 2s 58ms/step - loss: 0.0025 - val_loss: 5.5187e-04\n",
      "Epoch 67/100\n",
      "38/38 [==============================] - 2s 47ms/step - loss: 0.0025 - val_loss: 5.1912e-04\n",
      "Epoch 68/100\n",
      "38/38 [==============================] - 2s 45ms/step - loss: 0.0027 - val_loss: 8.4619e-04\n",
      "Epoch 69/100\n",
      "38/38 [==============================] - 2s 40ms/step - loss: 0.0026 - val_loss: 0.0012\n",
      "Epoch 70/100\n",
      "38/38 [==============================] - 2s 62ms/step - loss: 0.0029 - val_loss: 9.1405e-04\n",
      "Epoch 71/100\n",
      "38/38 [==============================] - 2s 52ms/step - loss: 0.0026 - val_loss: 5.5180e-04\n",
      "Epoch 72/100\n",
      "38/38 [==============================] - 2s 43ms/step - loss: 0.0023 - val_loss: 4.6489e-04\n",
      "Epoch 73/100\n",
      "38/38 [==============================] - 1s 39ms/step - loss: 0.0024 - val_loss: 6.8037e-04\n",
      "Epoch 74/100\n",
      "38/38 [==============================] - 2s 40ms/step - loss: 0.0028 - val_loss: 0.0040\n",
      "Epoch 75/100\n",
      "38/38 [==============================] - 2s 42ms/step - loss: 0.0026 - val_loss: 0.0023\n",
      "Epoch 76/100\n",
      "38/38 [==============================] - 2s 45ms/step - loss: 0.0024 - val_loss: 5.5578e-04\n",
      "Epoch 77/100\n",
      "38/38 [==============================] - 2s 43ms/step - loss: 0.0023 - val_loss: 0.0018\n",
      "Epoch 78/100\n",
      "38/38 [==============================] - 2s 41ms/step - loss: 0.0023 - val_loss: 0.0010\n",
      "Epoch 79/100\n",
      "38/38 [==============================] - 2s 52ms/step - loss: 0.0025 - val_loss: 4.7385e-04\n",
      "Epoch 80/100\n",
      "38/38 [==============================] - 2s 48ms/step - loss: 0.0024 - val_loss: 6.6434e-04\n",
      "Epoch 81/100\n",
      "38/38 [==============================] - 2s 48ms/step - loss: 0.0025 - val_loss: 4.1740e-04\n",
      "Epoch 82/100\n",
      "38/38 [==============================] - 2s 47ms/step - loss: 0.0023 - val_loss: 0.0012\n",
      "Epoch 83/100\n",
      "38/38 [==============================] - 2s 45ms/step - loss: 0.0025 - val_loss: 4.3825e-04\n",
      "Epoch 84/100\n",
      "38/38 [==============================] - 2s 47ms/step - loss: 0.0023 - val_loss: 4.2460e-04\n",
      "Epoch 85/100\n",
      "38/38 [==============================] - 2s 45ms/step - loss: 0.0021 - val_loss: 9.4432e-04\n",
      "Epoch 86/100\n",
      "38/38 [==============================] - 2s 52ms/step - loss: 0.0021 - val_loss: 9.3240e-04\n",
      "Epoch 87/100\n",
      "38/38 [==============================] - 2s 44ms/step - loss: 0.0021 - val_loss: 0.0012\n",
      "Epoch 88/100\n",
      "38/38 [==============================] - 2s 52ms/step - loss: 0.0018 - val_loss: 4.3633e-04\n",
      "Epoch 89/100\n",
      "38/38 [==============================] - 2s 51ms/step - loss: 0.0019 - val_loss: 4.1518e-04\n",
      "Epoch 90/100\n",
      "38/38 [==============================] - 2s 49ms/step - loss: 0.0021 - val_loss: 0.0018\n",
      "Epoch 91/100\n",
      "38/38 [==============================] - 2s 47ms/step - loss: 0.0022 - val_loss: 4.3106e-04\n",
      "Epoch 92/100\n",
      "38/38 [==============================] - 2s 48ms/step - loss: 0.0022 - val_loss: 4.7642e-04\n",
      "Epoch 93/100\n",
      "38/38 [==============================] - 2s 52ms/step - loss: 0.0020 - val_loss: 4.1003e-04\n",
      "Epoch 94/100\n",
      "38/38 [==============================] - 2s 42ms/step - loss: 0.0021 - val_loss: 0.0017\n",
      "Epoch 95/100\n",
      "38/38 [==============================] - 2s 49ms/step - loss: 0.0021 - val_loss: 4.4656e-04\n",
      "Epoch 96/100\n",
      "38/38 [==============================] - 2s 46ms/step - loss: 0.0024 - val_loss: 7.2858e-04\n",
      "Epoch 97/100\n",
      "38/38 [==============================] - 2s 52ms/step - loss: 0.0019 - val_loss: 0.0014\n",
      "Epoch 98/100\n",
      "38/38 [==============================] - 2s 47ms/step - loss: 0.0018 - val_loss: 4.3252e-04\n",
      "Epoch 99/100\n",
      "38/38 [==============================] - 2s 51ms/step - loss: 0.0018 - val_loss: 4.3597e-04\n",
      "Epoch 100/100\n",
      "38/38 [==============================] - 2s 50ms/step - loss: 0.0017 - val_loss: 0.0012\n"
     ]
    },
    {
     "data": {
      "text/plain": [
       "<keras.src.callbacks.History at 0x1c16bd6b490>"
      ]
     },
     "execution_count": 83,
     "metadata": {},
     "output_type": "execute_result"
    }
   ],
   "source": [
    "model.fit(x_train,y_train,epochs=100,batch_size=30,validation_split=0.05)"
   ]
  },
  {
   "cell_type": "markdown",
   "id": "775a544e",
   "metadata": {},
   "source": [
    "### Prepare test dataset"
   ]
  },
  {
   "cell_type": "code",
   "execution_count": 84,
   "id": "ef0e2453",
   "metadata": {},
   "outputs": [],
   "source": [
    "data = pd.concat((train_df['Open'],test_df['Open']),axis=0)"
   ]
  },
  {
   "cell_type": "code",
   "execution_count": 85,
   "id": "923dbaa2",
   "metadata": {},
   "outputs": [
    {
     "data": {
      "text/plain": [
       "(80,)"
      ]
     },
     "execution_count": 85,
     "metadata": {},
     "output_type": "execute_result"
    }
   ],
   "source": [
    "test_input = data.iloc[len(data) - len(test_df) - time : ].values\n",
    "test_input.shape\n"
   ]
  },
  {
   "cell_type": "code",
   "execution_count": 86,
   "id": "fc2c52bc-ce8a-4531-8b97-b8f0f116af79",
   "metadata": {},
   "outputs": [
    {
     "data": {
      "text/plain": [
       "(80, 1)"
      ]
     },
     "execution_count": 86,
     "metadata": {},
     "output_type": "execute_result"
    }
   ],
   "source": [
    "test_input = test_input.reshape(-1,1)\n",
    "test_input.shape\n"
   ]
  },
  {
   "cell_type": "code",
   "execution_count": 87,
   "id": "2d3ea19e-6858-4c3e-95fe-aa20e053a8ea",
   "metadata": {},
   "outputs": [],
   "source": [
    "test_scaled = scaler.transform(test_input)"
   ]
  },
  {
   "cell_type": "markdown",
   "id": "ff2d1fce",
   "metadata": {},
   "source": [
    "#### Create test data set"
   ]
  },
  {
   "cell_type": "code",
   "execution_count": 88,
   "id": "3b42f414",
   "metadata": {},
   "outputs": [
    {
     "data": {
      "text/plain": [
       "(20, 60)"
      ]
     },
     "execution_count": 88,
     "metadata": {},
     "output_type": "execute_result"
    }
   ],
   "source": [
    "x_test = []\n",
    "for i in range(time,test_scaled.shape[0]):\n",
    "    x_test.append(test_scaled[i - time: i,0 ])\n",
    "x_test = np.array(x_test)\n",
    "x_test.shape"
   ]
  },
  {
   "cell_type": "code",
   "execution_count": 89,
   "id": "9b65f6cb",
   "metadata": {},
   "outputs": [
    {
     "data": {
      "text/plain": [
       "(20, 60, 1)"
      ]
     },
     "execution_count": 89,
     "metadata": {},
     "output_type": "execute_result"
    }
   ],
   "source": [
    "x_test = np.reshape(x_test,newshape=(x_test.shape[0],x_test.shape[1],1))\n",
    "x_test.shape"
   ]
  },
  {
   "cell_type": "code",
   "execution_count": 90,
   "id": "0008a724",
   "metadata": {},
   "outputs": [],
   "source": [
    "y_test = test_df.loc[:,\"Open\"].values"
   ]
  },
  {
   "cell_type": "markdown",
   "id": "4ad54126-3961-49b9-8587-c4e2c9d03c96",
   "metadata": {
    "jp-MarkdownHeadingCollapsed": true
   },
   "source": [
    "Model Prediction"
   ]
  },
  {
   "cell_type": "code",
   "execution_count": 91,
   "id": "99d79639",
   "metadata": {
    "scrolled": true
   },
   "outputs": [
    {
     "name": "stdout",
     "output_type": "stream",
     "text": [
      "1/1 [==============================] - 0s 447ms/step\n"
     ]
    }
   ],
   "source": [
    "y_pred = model.predict(x_test)"
   ]
  },
  {
   "cell_type": "code",
   "execution_count": 92,
   "id": "62f8ac3b",
   "metadata": {},
   "outputs": [],
   "source": [
    "y_pred = scaler.inverse_transform(y_pred)"
   ]
  },
  {
   "cell_type": "code",
   "execution_count": 93,
   "id": "58bf448d",
   "metadata": {},
   "outputs": [
    {
     "name": "stdout",
     "output_type": "stream",
     "text": [
      "1/1 [==============================] - 0s 472ms/step - loss: 650707.3125\n"
     ]
    }
   ],
   "source": [
    "output = model.evaluate(x=x_test,y=y_test)"
   ]
  },
  {
   "cell_type": "code",
   "execution_count": 94,
   "id": "7f71b3da",
   "metadata": {},
   "outputs": [
    {
     "data": {
      "image/png": "[encoded data removed]",
      "text/plain": [
       "<Figure size 640x480 with 1 Axes>"
      ]
     },
     "metadata": {},
     "output_type": "display_data"
    }
   ],
   "source": [
    "plt.plot(y_test, color = 'red', label = 'Real price')\n",
    "plt.plot(y_pred, color = 'blue', label = 'Predicted price')\n",
    "\n",
    "plt.title('Google Stock price prediction')\n",
    "plt.xlabel('Time')\n",
    "plt.ylabel('Price')\n",
    "plt.legend()\n",
    "plt.show()"
   ]
  },
  {
   "cell_type": "code",
   "execution_count": null,
   "id": "2acd6276-310b-4dd2-b2ce-9fcdc026991c",
   "metadata": {},
   "outputs": [],
   "source": []
  }
 ],
 "metadata": {
  "kernelspec": {
   "display_name": "Python 3 (ipykernel)",
   "language": "python",
   "name": "python3"
  },
  "language_info": {
   "codemirror_mode": {
    "name": "ipython",
    "version": 3
   },
   "file_extension": ".py",
   "mimetype": "text/x-python",
   "name": "python",
   "nbconvert_exporter": "python",
   "pygments_lexer": "ipython3",
   "version": "3.10.0"
  }
 },
 "nbformat": 4,
 "nbformat_minor": 5
}
